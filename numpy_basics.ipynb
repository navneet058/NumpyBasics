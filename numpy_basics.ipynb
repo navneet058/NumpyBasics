{
 "cells": [
  {
   "cell_type": "markdown",
   "metadata": {},
   "source": [
    "# # This section gives the basic usages of numpy library functions\n"
   ]
  },
  {
   "cell_type": "code",
   "execution_count": 1,
   "metadata": {},
   "outputs": [],
   "source": [
    "# Import the numpy module\n",
    "import numpy as np"
   ]
  },
  {
   "cell_type": "code",
   "execution_count": 46,
   "metadata": {},
   "outputs": [
    {
     "name": "stdout",
     "output_type": "stream",
     "text": [
      "[2 4 6 8]\n"
     ]
    }
   ],
   "source": [
    "#Create array using numpy arange function\n",
    "array=np.arange(2,10,2)\n",
    "print(array)"
   ]
  },
  {
   "cell_type": "code",
   "execution_count": 2,
   "metadata": {},
   "outputs": [
    {
     "name": "stdout",
     "output_type": "stream",
     "text": [
      "[1 2 3]\n"
     ]
    }
   ],
   "source": [
    "#the below code produces the single dimension array through list\n",
    "list=[1,2,3]\n",
    "data=np.array(list)\n",
    "\n",
    "print(data)"
   ]
  },
  {
   "cell_type": "code",
   "execution_count": 3,
   "metadata": {},
   "outputs": [
    {
     "name": "stdout",
     "output_type": "stream",
     "text": [
      "[[1 2 3]\n",
      " [3 4 5]]\n"
     ]
    }
   ],
   "source": [
    "#the below code produces the two dimension dimension array trhough list of list\n",
    "\n",
    "list=[[1,2,3],[3,4,5]]\n",
    "data=np.array(list)\n",
    "print(data)"
   ]
  },
  {
   "cell_type": "code",
   "execution_count": 4,
   "metadata": {},
   "outputs": [],
   "source": [
    "#The below method gives zeros matrix based on passed shaped values\n",
    "\n",
    "zero_metrix=np.zeros((2,2))\n"
   ]
  },
  {
   "cell_type": "code",
   "execution_count": 5,
   "metadata": {},
   "outputs": [
    {
     "name": "stdout",
     "output_type": "stream",
     "text": [
      "[[0. 0.]\n",
      " [0. 0.]]\n"
     ]
    }
   ],
   "source": [
    "print(zero_metrix*5)"
   ]
  },
  {
   "cell_type": "code",
   "execution_count": 6,
   "metadata": {},
   "outputs": [
    {
     "name": "stdout",
     "output_type": "stream",
     "text": [
      "[[5. 5.]\n",
      " [5. 5.]]\n"
     ]
    }
   ],
   "source": [
    "#The below method gives ones matrix based on passed shaped values\n",
    "\n",
    "ones_metrix=np.ones((2,2))\n",
    "\n",
    "print(ones_metrix*5)"
   ]
  },
  {
   "cell_type": "code",
   "execution_count": 45,
   "metadata": {},
   "outputs": [
    {
     "name": "stdout",
     "output_type": "stream",
     "text": [
      "[[0 0]\n",
      " [0 0]\n",
      " [0 0]]\n"
     ]
    }
   ],
   "source": [
    "# create empty array using numpy\n",
    "\n",
    "empty_array=np.empty([3,2], dtype = int) \n",
    "print(empty_array)\n",
    "\n",
    "\n"
   ]
  },
  {
   "cell_type": "code",
   "execution_count": 44,
   "metadata": {},
   "outputs": [
    {
     "name": "stdout",
     "output_type": "stream",
     "text": [
      "[1.+0.j 2.+0.j 3.+0.j]\n"
     ]
    }
   ],
   "source": [
    "#The below code produces the complex array ....\n",
    "#where dType is optional which means =desired DataTypes\n",
    "\n",
    "data=[1,2,3]\n",
    "complex_array=np.array(data,dtype = complex)\n",
    "print(complex_array)"
   ]
  },
  {
   "cell_type": "code",
   "execution_count": 13,
   "metadata": {},
   "outputs": [
    {
     "name": "stdout",
     "output_type": "stream",
     "text": [
      "[[1 2 3]\n",
      " [4 5 6]]\n",
      "(2, 3)\n"
     ]
    }
   ],
   "source": [
    "# The below code gives the shape of the array or size of the array\n",
    "a = np.array([[1,2,3],[4,5,6]]) \n",
    "#Print the array value\n",
    "print(a)\n",
    "#Print the size or shape of the array\n",
    "print (a.shape)\n"
   ]
  },
  {
   "cell_type": "code",
   "execution_count": 28,
   "metadata": {},
   "outputs": [
    {
     "name": "stdout",
     "output_type": "stream",
     "text": [
      "Actual array values---->>>>> [[   1   23   45]\n",
      " [  44 6575   45]]\n",
      "====================\n",
      "Print the reshaped array values----->>>>>> [[   1   23]\n",
      " [  45   44]\n",
      " [6575   45]]\n"
     ]
    }
   ],
   "source": [
    "#Reshape the array \n",
    "a=np.array([[1,23,45],[44,6575,45]])\n",
    "\n",
    "#Print the actual array values \n",
    "\n",
    "print(\"Actual array values---->>>>>\",a)\n",
    "\n",
    "print(\"====================\")\n",
    "\n",
    "#Print the reshaped array data\n",
    "b=a.reshape(3,2)\n",
    "print(\"Print the reshaped array values----->>>>>>\",b)\n"
   ]
  },
  {
   "cell_type": "code",
   "execution_count": null,
   "metadata": {},
   "outputs": [],
   "source": []
  }
 ],
 "metadata": {
  "kernelspec": {
   "display_name": "Python 3",
   "language": "python",
   "name": "python3"
  },
  "language_info": {
   "codemirror_mode": {
    "name": "ipython",
    "version": 3
   },
   "file_extension": ".py",
   "mimetype": "text/x-python",
   "name": "python",
   "nbconvert_exporter": "python",
   "pygments_lexer": "ipython3",
   "version": "3.7.0"
  }
 },
 "nbformat": 4,
 "nbformat_minor": 2
}
